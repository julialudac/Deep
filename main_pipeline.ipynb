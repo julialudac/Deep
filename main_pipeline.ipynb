{
 "cells": [
  {
   "cell_type": "code",
   "execution_count": 1,
   "metadata": {},
   "outputs": [
    {
     "name": "stderr",
     "output_type": "stream",
     "text": [
      "F:\\laela\\AppData\\Local\\Continuum\\anaconda3\\lib\\site-packages\\ipykernel\\parentpoller.py:116: UserWarning: Parent poll failed.  If the frontend dies,\n",
      "                the kernel may be left running.  Please let us know\n",
      "                about your system (bitness, Python, etc.) at\n",
      "                ipython-dev@scipy.org\n",
      "  ipython-dev@scipy.org\"\"\")\n"
     ]
    }
   ],
   "source": [
    "import torchvision.transforms as transforms"
   ]
  },
  {
   "cell_type": "code",
   "execution_count": 52,
   "metadata": {},
   "outputs": [],
   "source": [
    "from frames_for_specific_scale import Frames_for_specific_scale"
   ]
  },
  {
   "cell_type": "code",
   "execution_count": 49,
   "metadata": {},
   "outputs": [],
   "source": [
    "from PIL import Image\n",
    "import time\n",
    "import torch\n",
    "import torch.nn as nn\n",
    "import torch.optim as optim\n",
    "import torch.nn.functional as F\n",
    "import torchvision\n",
    "import torchvision.transforms as transforms\n",
    "\n",
    "#personal imports\n",
    "from configuration import *\n",
    "from create_dataset import Create_dataset\n",
    "from chunking import Chunking\n",
    "from detections import *\n",
    "from frames_for_specific_scale import Frames_for_specific_scale\n",
    "from image_with_detections import Image_with_detections\n",
    "import network"
   ]
  },
  {
   "cell_type": "code",
   "execution_count": 4,
   "metadata": {},
   "outputs": [],
   "source": [
    "def train_neural_network(train_loader, net, optimizer, criterion):\n",
    "    \"\"\"\n",
    "    :param train_loader:\n",
    "    :param net: NN to train\n",
    "    :param optimizer:\n",
    "    :param criterion:\n",
    "    :return: NN\n",
    "    \"\"\"\n",
    "    start_time = time.time()\n",
    "    print('Start training')\n",
    "    for epoch in range(1):  # loop over the dataset multiple times\n",
    "\n",
    "        running_loss = 0.0\n",
    "        for i, data in enumerate(train_loader, 0):\n",
    "            inputs, labels = data\n",
    "\n",
    "            # zero the parameter gradients\n",
    "            optimizer.zero_grad()\n",
    "\n",
    "            # forward + backward + optimize\n",
    "            outputs = net(inputs)\n",
    "            loss = criterion(outputs, labels)\n",
    "            loss.backward()\n",
    "            optimizer.step()\n",
    "\n",
    "            # print statistics\n",
    "            running_loss += loss.item()\n",
    "            if i % 2000 == 1999:  # print every 2000 mini-batches\n",
    "                print('[%d, %5d] loss: %.3f' %\n",
    "                      (epoch + 1, i + 1, running_loss / 2000))\n",
    "                running_loss = 0.0\n",
    "\n",
    "    print('Finished Training')\n",
    "    print(\"time spent:\", time.time() - start_time)\n",
    "    return net"
   ]
  },
  {
   "cell_type": "code",
   "execution_count": 5,
   "metadata": {},
   "outputs": [],
   "source": [
    "def test_neural_network_original_dataset(test_loader, net):\n",
    "    \"\"\"\n",
    "    :param test_loader:\n",
    "    :param net: NN already trained\n",
    "    :return: None\n",
    "    \"\"\"\n",
    "    start_time = time.time()\n",
    "    print('Start testing')\n",
    "    class_correct = list(0. for i in range(2))\n",
    "    class_total = list(0. for i in range(2))\n",
    "    classes = (0, 1,)\n",
    "    with torch.no_grad():\n",
    "        for data in test_loader:\n",
    "            images, labels = data\n",
    "            labels = torch.LongTensor(([1 if label > 1 else label for label in labels]))\n",
    "            outputs = net(images)\n",
    "            _, predicted = torch.max(outputs, 1)\n",
    "            c = (predicted == labels).squeeze()\n",
    "            for i in range(len(labels)):\n",
    "                label = labels[i]\n",
    "                class_correct[label] += c[i].item()\n",
    "                class_total[label] += 1\n",
    "\n",
    "    for i in range(2):\n",
    "        print('Accuracy of %5s : %2d %%' % (\n",
    "            classes[i], 100 * class_correct[i] / class_total[i]))\n",
    "\n",
    "    correct = 0\n",
    "    total = 0\n",
    "    with torch.no_grad():\n",
    "        for data in test_loader:\n",
    "            images, labels = data\n",
    "            labels = torch.LongTensor(([1 if label > 1 else label for label in labels]))\n",
    "            outputs = net(images)\n",
    "            _, predicted = torch.max(outputs.data, 1)\n",
    "            total += labels.size(0)\n",
    "            correct += (predicted == labels).sum().item()\n",
    "\n",
    "    print('Accuracy of the network on the 10000 test images: %d %%' % (\n",
    "            100 * correct / total))\n",
    "    print('Finished Training')\n",
    "    print(\"time spent:\", time.time() - start_time)"
   ]
  },
  {
   "cell_type": "code",
   "execution_count": 54,
   "metadata": {},
   "outputs": [],
   "source": [
    "def test_neural_network_own_dataset(path_to_image, net):\n",
    "    \"\"\"\n",
    "    :param path_to_image: string which indicates where our image is stored\n",
    "    :param net: NN already trained\n",
    "    :return: None\n",
    "    \"\"\"\n",
    "    start_time = time.time()\n",
    "    print('Start testing')\n",
    "\n",
    "    image = Image.open(path_to_image)\n",
    "    # Convert into grayscale\n",
    "    #image = image.convert(\"L\")\n",
    "\n",
    "    # cut image to different scales\n",
    "    Chunking.init(image)\n",
    "    (scaled_images, scaled_positions) = Chunking.get_chunks_of_image_at_different_scales(strides=(5, 5), nb_shrinkages=3, division_factor=2)\n",
    "\n",
    "    # compute score for each frame\n",
    "    frames = []\n",
    "    scaled_factor = 1\n",
    "    for index in range(len(scaled_images)):\n",
    "        dataset = Create_dataset(scaled_images[index])\n",
    "        # get the dataloader. Minibatches of 4\n",
    "        dataloader = torch.utils.data.DataLoader(dataset, batch_size=4,\n",
    "                                                 shuffle=True, num_workers=2)\n",
    "        scores = []\n",
    "        with torch.no_grad():\n",
    "            for data in dataloader:\n",
    "                images, _ = data\n",
    "                outputs = net(images)  # [(score of class_0, score of class_1), ...]\n",
    "                outputs = outputs.numpy()\n",
    "                outputs = outputs.tolist()\n",
    "                scores.extend(outputs)\n",
    "        print(\"just begore to add it to frames\")\n",
    "        frames.append(Frames_for_specific_scale(scaled_factor, dataset, scaled_positions[index], scores))\n",
    "        scaled_factor = division_factor * (2 ** index)\n",
    "\n",
    "    # subdetections\n",
    "    subdetections = capture_subdetections(frames)\n",
    "\n",
    "    # clustering of Subdetections into clusters_of_subdetections and filtering\n",
    "    clusters_of_subdetections = get_detections(subdetections, min_samples=2)  \n",
    "    # min_samples --> number of min detection to confirm the detection\n",
    "    #print(clusters_of_subdetections)  # In the example, one subdetection is alone in a detection => this detection is discarded.\n",
    "\n",
    "    # get the best candidates\n",
    "    winners = get_best_clusters_candidates(subdetections, clusters_of_subdetections)\n",
    "    for winner in winners:\n",
    "        #print(winner)\n",
    "        pass\n",
    "\n",
    "    # save an image with all subdetections, and then only with the kept subdetections\n",
    "    image_with_detections = Image_with_detections(image, subdetections)\n",
    "    original_name_image = path_to_image.split('.')\n",
    "\n",
    "    # With all subdetections\n",
    "    image_with_detections.save(original_name_image[0] + \"_all_detections.JPG\")\n",
    "\n",
    "    # With only winner subdetections\n",
    "    image_with_detections.subdetections = winners\n",
    "    image_with_detections.save(original_name_image[0] + \"_winners_detections.JPG\")\n",
    "\n",
    "    print('Finished Training')\n",
    "    print(\"time spent:\", time.time() - start_time)"
   ]
  },
  {
   "cell_type": "code",
   "execution_count": 14,
   "metadata": {},
   "outputs": [],
   "source": [
    "#training data set\n",
    "transform = transforms.Compose(\n",
    "    [transforms.ToTensor(),\n",
    "     transforms.Normalize([0.5], [0.5])])\n",
    "train_imagenet = torchvision.datasets.ImageFolder('start_deep/start_deep/start_deep/train_images/',transform=transform)\n",
    "\n",
    "#data augmentation\n",
    "for theta in range(3):\n",
    "    transform = transforms.Compose(\n",
    "        [transforms.RandomRotation((90*(theta+1), 90*(theta+1))),\n",
    "        transforms.ToTensor(),\n",
    "         transforms.Normalize([0.5], [0.5])])\n",
    "    train_imagenet += torchvision.datasets.ImageFolder('start_deep/start_deep/start_deep/train_images/',transform=transform)\n",
    "\n",
    "train_loader = torch.utils.data.DataLoader(train_imagenet, batch_size=4, shuffle=True, num_workers=2, pin_memory=True)\n",
    "\n",
    "#define net and define optimizer\n",
    "net = network.Net()\n",
    "weights = torch.Tensor([1, 3])\n",
    "criterion = nn.CrossEntropyLoss(weights)\n",
    "optimizer = optim.SGD(net.parameters(), lr=0.001, momentum=0.9)"
   ]
  },
  {
   "cell_type": "code",
   "execution_count": 15,
   "metadata": {},
   "outputs": [
    {
     "name": "stdout",
     "output_type": "stream",
     "text": [
      "Start training\n",
      "[1,  2000] loss: 0.386\n",
      "[1,  4000] loss: 0.236\n",
      "[1,  6000] loss: 0.193\n",
      "[1,  8000] loss: 0.172\n",
      "[1, 10000] loss: 0.145\n",
      "[1, 12000] loss: 0.114\n",
      "[1, 14000] loss: 0.099\n",
      "[1, 16000] loss: 0.091\n",
      "[1, 18000] loss: 0.076\n",
      "[1, 20000] loss: 0.080\n",
      "[1, 22000] loss: 0.070\n",
      "[1, 24000] loss: 0.066\n",
      "[1, 26000] loss: 0.063\n",
      "[1, 28000] loss: 0.056\n",
      "[1, 30000] loss: 0.063\n",
      "[1, 32000] loss: 0.055\n",
      "[1, 34000] loss: 0.048\n",
      "[1, 36000] loss: 0.049\n",
      "[1, 38000] loss: 0.048\n",
      "[1, 40000] loss: 0.036\n",
      "[1, 42000] loss: 0.049\n",
      "[1, 44000] loss: 0.042\n",
      "[1, 46000] loss: 0.038\n",
      "[1, 48000] loss: 0.041\n",
      "[1, 50000] loss: 0.039\n",
      "[1, 52000] loss: 0.032\n",
      "[1, 54000] loss: 0.033\n",
      "[1, 56000] loss: 0.030\n",
      "[1, 58000] loss: 0.033\n",
      "[1, 60000] loss: 0.031\n",
      "[1, 62000] loss: 0.031\n",
      "[1, 64000] loss: 0.035\n",
      "[1, 66000] loss: 0.031\n",
      "[1, 68000] loss: 0.032\n",
      "[1, 70000] loss: 0.026\n",
      "[1, 72000] loss: 0.029\n",
      "[1, 74000] loss: 0.027\n",
      "[1, 76000] loss: 0.032\n",
      "[1, 78000] loss: 0.030\n",
      "[1, 80000] loss: 0.028\n",
      "[1, 82000] loss: 0.028\n",
      "[1, 84000] loss: 0.026\n",
      "[1, 86000] loss: 0.025\n",
      "[1, 88000] loss: 0.021\n",
      "[1, 90000] loss: 0.023\n",
      "Finished Training\n",
      "time spent: 1713.9586062431335\n"
     ]
    }
   ],
   "source": [
    "#training\n",
    "net = train_neural_network(train_loader, net, optimizer, criterion)"
   ]
  },
  {
   "cell_type": "code",
   "execution_count": 16,
   "metadata": {},
   "outputs": [
    {
     "name": "stdout",
     "output_type": "stream",
     "text": [
      "Start testing\n",
      "Accuracy of     0 : 97 %\n",
      "Accuracy of     1 : 72 %\n",
      "Accuracy of the network on the 10000 test images: 94 %\n",
      "Finished Training\n",
      "time spent: 75.21261429786682\n"
     ]
    }
   ],
   "source": [
    "#test with original dataset\n",
    "test_imagenet = torchvision.datasets.ImageFolder('start_deep/start_deep/start_deep/test_images/',\n",
    "                                                             transform=transform)\n",
    "test_loader = torch.utils.data.DataLoader(test_imagenet, batch_size=4, shuffle=True, num_workers=2, pin_memory=True)\n",
    "test_neural_network_original_dataset(test_loader, net)"
   ]
  },
  {
   "cell_type": "code",
   "execution_count": null,
   "metadata": {},
   "outputs": [
    {
     "name": "stdout",
     "output_type": "stream",
     "text": [
      "(ex : own_dataset/ex3.JPG). The path to the image to test is :own_dataset/ex3.JPG\n",
      "Start testing\n"
     ]
    }
   ],
   "source": [
    "path_to_image = input(\"(ex : own_dataset/ex3.JPG). The path to the image to test is :\")\n",
    "test_neural_network_own_dataset(path_to_image, net)"
   ]
  },
  {
   "cell_type": "code",
   "execution_count": null,
   "metadata": {},
   "outputs": [],
   "source": []
  }
 ],
 "metadata": {
  "kernelspec": {
   "display_name": "Python 3",
   "language": "python",
   "name": "python3"
  },
  "language_info": {
   "codemirror_mode": {
    "name": "ipython",
    "version": 3
   },
   "file_extension": ".py",
   "mimetype": "text/x-python",
   "name": "python",
   "nbconvert_exporter": "python",
   "pygments_lexer": "ipython3",
   "version": "3.7.0"
  }
 },
 "nbformat": 4,
 "nbformat_minor": 2
}
