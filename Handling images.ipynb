{
 "cells": [
  {
   "cell_type": "markdown",
   "metadata": {},
   "source": [
    "# How to handle any images and link it with dataset"
   ]
  },
  {
   "cell_type": "markdown",
   "metadata": {},
   "source": [
    "## Useful for the rescaling part"
   ]
  },
  {
   "cell_type": "markdown",
   "metadata": {},
   "source": [
    "How to rescale an image (and eventually save the rescaled image)"
   ]
  },
  {
   "cell_type": "code",
   "execution_count": 5,
   "metadata": {},
   "outputs": [
    {
     "name": "stdout",
     "output_type": "stream",
     "text": [
      "\u001b[0m\u001b[01;32mHandling images and putting them into a dataset.ipynb\u001b[0m*  \u001b[01;32mIMGP0017.JPG\u001b[0m*\r\n"
     ]
    }
   ],
   "source": [
    "%ls"
   ]
  },
  {
   "cell_type": "code",
   "execution_count": 10,
   "metadata": {},
   "outputs": [
    {
     "name": "stdout",
     "output_type": "stream",
     "text": [
      "<class 'PIL.JpegImagePlugin.JpegImageFile'>\n",
      "<class 'PIL.Image.Image'>\n"
     ]
    }
   ],
   "source": [
    "from PIL import Image\n",
    "\n",
    "divfactor = 1.2\n",
    "\n",
    "# Rescaling a lambda image\n",
    "im = Image.open(\"IMGP0017.JPG\")\n",
    "w, h = im.size\n",
    "#print(type(im))\n",
    "im = im.resize((int(w/divfactor), int(h/divfactor)))\n",
    "im.save(\"resized\" + \".JPG\", \"JPEG\") # just to see the result\n",
    "#print(type(im))"
   ]
  },
  {
   "cell_type": "markdown",
   "metadata": {},
   "source": [
    "## Useful for sliding part"
   ]
  },
  {
   "cell_type": "markdown",
   "metadata": {},
   "source": [
    "Cropping an image:"
   ]
  },
  {
   "cell_type": "code",
   "execution_count": 11,
   "metadata": {},
   "outputs": [],
   "source": [
    "im = Image.open(\"IMGP0017.JPG\")\n",
    "im = im.crop((0,0,1000,800))\n",
    "im.save(\"cropped\" + \".JPG\", \"JPEG\") # just to see the result"
   ]
  },
  {
   "cell_type": "code",
   "execution_count": null,
   "metadata": {},
   "outputs": [],
   "source": []
  }
 ],
 "metadata": {
  "kernelspec": {
   "display_name": "Python 3",
   "language": "python",
   "name": "python3"
  },
  "language_info": {
   "codemirror_mode": {
    "name": "ipython",
    "version": 3
   },
   "file_extension": ".py",
   "mimetype": "text/x-python",
   "name": "python",
   "nbconvert_exporter": "python",
   "pygments_lexer": "ipython3",
   "version": "3.7.0"
  }
 },
 "nbformat": 4,
 "nbformat_minor": 2
}
